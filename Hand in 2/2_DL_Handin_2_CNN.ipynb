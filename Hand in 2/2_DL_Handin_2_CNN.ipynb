{
  "cells": [
    {
      "cell_type": "code",
      "execution_count": 10,
      "metadata": {
        "id": "59JyptEh5WIK"
      },
      "outputs": [],
      "source": [
        "import numpy as np\n",
        "import imageio\n",
        "import glob\n",
        "import matplotlib.pyplot as plt\n",
        "import torch\n",
        "import torch.nn as nn\n",
        "import torch.nn.functional as F\n",
        "import time\n",
        "from torch.utils.data import DataLoader\n",
        "from torchvision import datasets, transforms"
      ]
    },
    {
      "cell_type": "code",
      "execution_count": 11,
      "metadata": {
        "id": "h2Z3KAMAS65b"
      },
      "outputs": [],
      "source": [
        "# Function to load MNIST dataset\n",
        "def load_mnist():\n",
        "    NUM_LABELS = 10\n",
        "    test_images, test_labels = [], []\n",
        "    train_images, train_labels = [], []\n",
        "\n",
        "    base_path = \"C:/Users/ramki/OneDrive/Desktop/DL/MNIST/MNIST\"\n",
        "\n",
        "    for label in range(NUM_LABELS):\n",
        "        for image_path in glob.glob(f\"{base_path}/Test/{label}/*.png\"):\n",
        "            image = imageio.imread(image_path)\n",
        "            test_images.append(image)\n",
        "            letter = [0] * NUM_LABELS\n",
        "            letter[label] = 1\n",
        "            test_labels.append(letter)\n",
        "\n",
        "    for label in range(NUM_LABELS):\n",
        "        for image_path in glob.glob(f\"{base_path}/Train/{label}/*.png\"):\n",
        "            image = imageio.imread(image_path)\n",
        "            train_images.append(image)\n",
        "            letter = [0] * NUM_LABELS\n",
        "            letter[label] = 1\n",
        "            train_labels.append(letter)\n",
        "\n",
        "    X_train = np.array(train_images).reshape(-1, 784) / 255.0\n",
        "    Y_train = np.array(train_labels)\n",
        "    X_test = np.array(test_images).reshape(-1, 784) / 255.0\n",
        "    Y_test = np.array(test_labels)\n",
        "\n",
        "    return X_train, Y_train, X_test, Y_test"
      ]
    },
    {
      "cell_type": "code",
      "execution_count": 12,
      "metadata": {
        "colab": {
          "base_uri": "https://localhost:8080/"
        },
        "id": "G3bDZtDgYgmr",
        "outputId": "69afcd0f-4b82-4b57-9f8b-62e014fa1228"
      },
      "outputs": [
        {
          "name": "stderr",
          "output_type": "stream",
          "text": [
            "C:\\Users\\ramki\\AppData\\Local\\Temp\\ipykernel_19736\\189164474.py:11: DeprecationWarning: Starting with ImageIO v3 the behavior of this function will switch to that of iio.v3.imread. To keep the current behavior (and make this warning disappear) use `import imageio.v2 as imageio` or call `imageio.v2.imread` directly.\n",
            "  image = imageio.imread(image_path)\n",
            "C:\\Users\\ramki\\AppData\\Local\\Temp\\ipykernel_19736\\189164474.py:19: DeprecationWarning: Starting with ImageIO v3 the behavior of this function will switch to that of iio.v3.imread. To keep the current behavior (and make this warning disappear) use `import imageio.v2 as imageio` or call `imageio.v2.imread` directly.\n",
            "  image = imageio.imread(image_path)\n"
          ]
        }
      ],
      "source": [
        "X_train, Y_train, X_test, Y_test = load_mnist()"
      ]
    },
    {
      "cell_type": "code",
      "execution_count": 18,
      "metadata": {
        "colab": {
          "base_uri": "https://localhost:8080/"
        },
        "id": "Z-vu5PHiF2Ls",
        "outputId": "1f8b9092-ade3-434a-efb2-9165f3ece56b"
      },
      "outputs": [],
      "source": [
        "class NeuralNetwork(nn.Module):\n",
        "    def __init__(self):\n",
        "        super(NeuralNetwork, self).__init__()\n",
        "\n",
        "        self.conv1 = nn.Conv2d(in_channels=1, out_channels=8, kernel_size=3, stride=1, padding=1)\n",
        "        self.relu1 = nn.ReLU()\n",
        "        self.pool1 = nn.MaxPool2d(kernel_size=2, stride=2)\n",
        "\n",
        "        self.conv2 = nn.Conv2d(in_channels=8, out_channels=16, kernel_size=2, stride=1, padding=1)\n",
        "        self.relu2 = nn.ReLU()\n",
        "        self.pool2 = nn.MaxPool2d(kernel_size=2, stride=2)\n",
        "\n",
        "        self.conv3 = nn.Conv2d(in_channels=16, out_channels=32, kernel_size=3, stride=1, padding=1)\n",
        "        self.relu3 = nn.ReLU()\n",
        "\n",
        "        self.fc = nn.Linear(in_features=32 * 7 * 7, out_features=10)\n",
        "\n",
        "        # Softmax Layer\n",
        "        self.softmax = nn.Softmax(dim=1)\n",
        "\n",
        "    def forward(self, x):\n",
        "        x = self.conv1(x)\n",
        "        x = self.relu1(x)\n",
        "        x = self.pool1(x)\n",
        "\n",
        "        x = self.conv2(x)\n",
        "        x = self.relu2(x)\n",
        "        x = self.pool2(x)\n",
        "\n",
        "        x = self.conv3(x)\n",
        "        x = self.relu3(x)\n",
        "\n",
        "        x = x.view(x.size(0), -1)  # Flatten the output\n",
        "        x = self.fc(x)  # Fully connected layer\n",
        "\n",
        "        return x  # Return the final output"
      ]
    },
    {
      "cell_type": "code",
      "execution_count": 14,
      "metadata": {},
      "outputs": [],
      "source": [
        "#mini batch\n",
        "def random_mini_batches(X, Y, batch_size):\n",
        "    m = X.shape[0]\n",
        "    mini_batches = []\n",
        "    permutation = np.random.permutation(m)\n",
        "    shuffled_X = X[permutation, :]\n",
        "    shuffled_Y = Y[permutation, :]\n",
        "\n",
        "    num_batches = m // batch_size\n",
        "    for k in range(num_batches):\n",
        "        X_mini = shuffled_X[k * batch_size:(k + 1) * batch_size, :]\n",
        "        Y_mini = shuffled_Y[k * batch_size:(k + 1) * batch_size, :]\n",
        "        mini_batches.append((X_mini, Y_mini))\n",
        "\n",
        "    if m % batch_size != 0:\n",
        "        X_mini = shuffled_X[num_batches * batch_size:, :]\n",
        "        Y_mini = shuffled_Y[num_batches * batch_size:, :]\n",
        "        mini_batches.append((X_mini, Y_mini))\n",
        "\n",
        "    return mini_batches"
      ]
    },
    {
      "cell_type": "code",
      "execution_count": 17,
      "metadata": {
        "id": "wl3sWJHmE8tN"
      },
      "outputs": [],
      "source": [
        "def train_model(model, X_train, Y_train, X_test, Y_test, iterations=1000, learning_rate=0.001, batch_size=64):\n",
        "    # Convert data to PyTorch tensors\n",
        "    X_train = torch.tensor(X_train, dtype=torch.float32)\n",
        "    Y_train = torch.tensor(Y_train, dtype=torch.float32)\n",
        "    X_test = torch.tensor(X_test, dtype=torch.float32)\n",
        "    Y_test = torch.tensor(Y_test, dtype=torch.float32)\n",
        "\n",
        "    # Define optimizer and loss function\n",
        "    optimizer = torch.optim.SGD(model.parameters(), lr=learning_rate)\n",
        "    criterion = nn.CrossEntropyLoss()\n",
        "\n",
        "    train_costs, test_costs = [], []\n",
        "    train_accuracies, test_accuracies = [], []\n",
        "\n",
        "    for i in range(iterations):\n",
        "        # Create mini-batches\n",
        "        mini_batches = random_mini_batches(X_train, Y_train, batch_size)\n",
        "\n",
        "        for X_mini, Y_mini in mini_batches:\n",
        "            # Reshape X_mini to [batch_size, 1, 28, 28] for convolutional layers\n",
        "            X_mini = X_mini.view(-1, 1, 28, 28)  # Reshape to [batch_size, channels, height, width]\n",
        "\n",
        "            # Forward pass\n",
        "            outputs = model(X_mini)\n",
        "            loss = criterion(outputs, torch.argmax(Y_mini, dim=1))\n",
        "\n",
        "            # Backward pass and optimization\n",
        "            optimizer.zero_grad()\n",
        "            loss.backward()\n",
        "            optimizer.step()\n",
        "\n",
        "        if i % 10 == 0:\n",
        "            # Calculate accuracy and cost\n",
        "            with torch.no_grad():\n",
        "                # Reshape X_train and X_test for evaluation\n",
        "                X_train_reshaped = X_train.view(-1, 1, 28, 28)\n",
        "                X_test_reshaped = X_test.view(-1, 1, 28, 28)\n",
        "\n",
        "                train_outputs = model(X_train_reshaped)\n",
        "                train_cost = criterion(train_outputs, torch.argmax(Y_train, dim=1)).item()\n",
        "                train_accuracy = (torch.argmax(train_outputs, dim=1) == torch.argmax(Y_train, dim=1)).float().mean().item()\n",
        "\n",
        "                test_outputs = model(X_test_reshaped)\n",
        "                test_cost = criterion(test_outputs, torch.argmax(Y_test, dim=1)).item()\n",
        "                test_accuracy = (torch.argmax(test_outputs, dim=1) == torch.argmax(Y_test, dim=1)).float().mean().item()\n",
        "\n",
        "            train_costs.append(train_cost)\n",
        "            test_costs.append(test_cost)\n",
        "            train_accuracies.append(train_accuracy)\n",
        "            test_accuracies.append(test_accuracy)\n",
        "            print(f\"Iteration {i}: Train Cost = {train_cost:.4f}, Test Cost = {test_cost:.4f}, Train Accuracy = {train_accuracy:.4f}, Test Accuracy = {test_accuracy:.4f}\")\n",
        "\n",
        "    return train_costs, test_costs, train_accuracies, test_accuracies"
      ]
    },
    {
      "cell_type": "code",
      "execution_count": 19,
      "metadata": {},
      "outputs": [
        {
          "name": "stdout",
          "output_type": "stream",
          "text": [
            "Iteration 0: Train Cost = 2.2913, Test Cost = 2.2913, Train Accuracy = 0.2705, Test Accuracy = 0.2675\n",
            "Iteration 10: Train Cost = 0.3751, Test Cost = 0.3561, Train Accuracy = 0.8874, Test Accuracy = 0.8956\n",
            "Iteration 20: Train Cost = 0.2697, Test Cost = 0.2559, Train Accuracy = 0.9193, Test Accuracy = 0.9252\n",
            "Iteration 30: Train Cost = 0.1853, Test Cost = 0.1787, Train Accuracy = 0.9449, Test Accuracy = 0.9484\n",
            "Iteration 40: Train Cost = 0.1416, Test Cost = 0.1325, Train Accuracy = 0.9579, Test Accuracy = 0.9603\n",
            "Iteration 50: Train Cost = 0.1172, Test Cost = 0.1094, Train Accuracy = 0.9651, Test Accuracy = 0.9679\n",
            "Iteration 60: Train Cost = 0.0996, Test Cost = 0.0929, Train Accuracy = 0.9698, Test Accuracy = 0.9710\n",
            "Iteration 70: Train Cost = 0.0888, Test Cost = 0.0835, Train Accuracy = 0.9731, Test Accuracy = 0.9736\n",
            "Iteration 80: Train Cost = 0.0794, Test Cost = 0.0773, Train Accuracy = 0.9766, Test Accuracy = 0.9753\n",
            "Iteration 90: Train Cost = 0.0757, Test Cost = 0.0750, Train Accuracy = 0.9774, Test Accuracy = 0.9763\n",
            "Iteration 100: Train Cost = 0.0688, Test Cost = 0.0704, Train Accuracy = 0.9799, Test Accuracy = 0.9773\n",
            "Iteration 110: Train Cost = 0.0634, Test Cost = 0.0653, Train Accuracy = 0.9809, Test Accuracy = 0.9790\n",
            "Iteration 120: Train Cost = 0.0594, Test Cost = 0.0624, Train Accuracy = 0.9822, Test Accuracy = 0.9796\n",
            "Iteration 130: Train Cost = 0.0569, Test Cost = 0.0604, Train Accuracy = 0.9829, Test Accuracy = 0.9804\n",
            "Iteration 140: Train Cost = 0.0554, Test Cost = 0.0597, Train Accuracy = 0.9828, Test Accuracy = 0.9798\n",
            "Iteration 150: Train Cost = 0.0514, Test Cost = 0.0587, Train Accuracy = 0.9848, Test Accuracy = 0.9805\n",
            "Iteration 160: Train Cost = 0.0479, Test Cost = 0.0563, Train Accuracy = 0.9860, Test Accuracy = 0.9815\n",
            "Iteration 170: Train Cost = 0.0455, Test Cost = 0.0550, Train Accuracy = 0.9866, Test Accuracy = 0.9819\n",
            "Iteration 180: Train Cost = 0.0435, Test Cost = 0.0543, Train Accuracy = 0.9872, Test Accuracy = 0.9814\n",
            "Iteration 190: Train Cost = 0.0424, Test Cost = 0.0533, Train Accuracy = 0.9872, Test Accuracy = 0.9822\n",
            "Iteration 200: Train Cost = 0.0406, Test Cost = 0.0531, Train Accuracy = 0.9879, Test Accuracy = 0.9830\n",
            "Iteration 210: Train Cost = 0.0380, Test Cost = 0.0521, Train Accuracy = 0.9889, Test Accuracy = 0.9822\n",
            "Iteration 220: Train Cost = 0.0362, Test Cost = 0.0511, Train Accuracy = 0.9893, Test Accuracy = 0.9835\n",
            "Iteration 230: Train Cost = 0.0359, Test Cost = 0.0523, Train Accuracy = 0.9894, Test Accuracy = 0.9823\n",
            "Iteration 240: Train Cost = 0.0346, Test Cost = 0.0520, Train Accuracy = 0.9897, Test Accuracy = 0.9828\n",
            "Iteration 250: Train Cost = 0.0323, Test Cost = 0.0507, Train Accuracy = 0.9905, Test Accuracy = 0.9838\n",
            "Iteration 260: Train Cost = 0.0324, Test Cost = 0.0524, Train Accuracy = 0.9905, Test Accuracy = 0.9835\n",
            "Iteration 270: Train Cost = 0.0303, Test Cost = 0.0502, Train Accuracy = 0.9913, Test Accuracy = 0.9844\n",
            "Iteration 280: Train Cost = 0.0290, Test Cost = 0.0515, Train Accuracy = 0.9916, Test Accuracy = 0.9832\n",
            "Iteration 290: Train Cost = 0.0281, Test Cost = 0.0510, Train Accuracy = 0.9920, Test Accuracy = 0.9832\n",
            "Iteration 300: Train Cost = 0.0276, Test Cost = 0.0524, Train Accuracy = 0.9919, Test Accuracy = 0.9825\n",
            "Iteration 310: Train Cost = 0.0267, Test Cost = 0.0527, Train Accuracy = 0.9923, Test Accuracy = 0.9833\n",
            "Iteration 320: Train Cost = 0.0246, Test Cost = 0.0500, Train Accuracy = 0.9931, Test Accuracy = 0.9838\n",
            "Iteration 330: Train Cost = 0.0290, Test Cost = 0.0556, Train Accuracy = 0.9908, Test Accuracy = 0.9815\n",
            "Iteration 340: Train Cost = 0.0241, Test Cost = 0.0516, Train Accuracy = 0.9929, Test Accuracy = 0.9841\n",
            "Iteration 350: Train Cost = 0.0223, Test Cost = 0.0505, Train Accuracy = 0.9937, Test Accuracy = 0.9840\n",
            "Iteration 360: Train Cost = 0.0229, Test Cost = 0.0523, Train Accuracy = 0.9934, Test Accuracy = 0.9830\n",
            "Iteration 370: Train Cost = 0.0216, Test Cost = 0.0534, Train Accuracy = 0.9942, Test Accuracy = 0.9838\n",
            "Iteration 380: Train Cost = 0.0205, Test Cost = 0.0524, Train Accuracy = 0.9941, Test Accuracy = 0.9839\n",
            "Iteration 390: Train Cost = 0.0205, Test Cost = 0.0526, Train Accuracy = 0.9941, Test Accuracy = 0.9826\n",
            "Iteration 400: Train Cost = 0.0245, Test Cost = 0.0582, Train Accuracy = 0.9926, Test Accuracy = 0.9833\n",
            "Iteration 410: Train Cost = 0.0187, Test Cost = 0.0524, Train Accuracy = 0.9951, Test Accuracy = 0.9845\n",
            "Iteration 420: Train Cost = 0.0173, Test Cost = 0.0522, Train Accuracy = 0.9957, Test Accuracy = 0.9839\n",
            "Iteration 430: Train Cost = 0.0171, Test Cost = 0.0541, Train Accuracy = 0.9959, Test Accuracy = 0.9841\n",
            "Iteration 440: Train Cost = 0.0176, Test Cost = 0.0540, Train Accuracy = 0.9951, Test Accuracy = 0.9830\n",
            "Iteration 450: Train Cost = 0.0168, Test Cost = 0.0542, Train Accuracy = 0.9956, Test Accuracy = 0.9844\n",
            "Iteration 460: Train Cost = 0.0158, Test Cost = 0.0554, Train Accuracy = 0.9962, Test Accuracy = 0.9839\n",
            "Iteration 470: Train Cost = 0.0163, Test Cost = 0.0546, Train Accuracy = 0.9956, Test Accuracy = 0.9851\n",
            "Iteration 480: Train Cost = 0.0146, Test Cost = 0.0538, Train Accuracy = 0.9965, Test Accuracy = 0.9846\n",
            "Iteration 490: Train Cost = 0.0167, Test Cost = 0.0559, Train Accuracy = 0.9952, Test Accuracy = 0.9845\n",
            "Time elapsed: 2806.9465 seconds\n"
          ]
        }
      ],
      "source": [
        "# Initialize the model\n",
        "start_time = time.time()\n",
        "\n",
        "model = NeuralNetwork()\n",
        "train_cost, test_cost, train_accu, test_accu = train_model(\n",
        "    model, X_train, Y_train, X_test, Y_test, iterations=500, learning_rate=0.001, batch_size=64\n",
        ")\n",
        "\n",
        "end_time = time.time()\n",
        "\n",
        "elapsed_time = end_time - start_time\n",
        "print(f\"Time elapsed: {elapsed_time:.4f} seconds\")\n",
        "\n",
        "\n"
      ]
    },
    {
      "cell_type": "markdown",
      "metadata": {},
      "source": []
    },
    {
      "cell_type": "code",
      "execution_count": 21,
      "metadata": {},
      "outputs": [
        {
          "data": {
            "text/plain": [
              "<Figure size 1200x500 with 0 Axes>"
            ]
          },
          "metadata": {},
          "output_type": "display_data"
        },
        {
          "data": {
            "image/png": "[encoded data removed]",
            "text/plain": [
              "<Figure size 1200x400 with 2 Axes>"
            ]
          },
          "metadata": {},
          "output_type": "display_data"
        },
        {
          "name": "stdout",
          "output_type": "stream",
          "text": [
            "Final Train Cost: 0.0167\n",
            "Final Test Cost: 0.0559\n",
            "Final Train Accuracy: 0.9952\n",
            "Final Test Accuracy: 0.9845\n"
          ]
        }
      ],
      "source": [
        "# Plot the learning curves\n",
        "plt.figure(figsize=(12, 5))\n",
        "fig, axs = plt.subplots(1, 2, figsize=(12, 4))\n",
        "\n",
        "# Plot training and test cost\n",
        "plt.subplot(1, 2, 1)\n",
        "plt.plot(train_cost, label='Train Cost')\n",
        "plt.plot(test_cost, label='Test Cost')\n",
        "plt.xlabel('Iterations')\n",
        "plt.ylabel('Cost')\n",
        "plt.title('Training and Test Cost Over Iterations')\n",
        "plt.legend()\n",
        "\n",
        "# Plot training and test accuracy\n",
        "plt.subplot(1, 2, 2)\n",
        "plt.plot(train_accu, label='Train Accuracy')\n",
        "plt.plot(test_accu, label='Test Accuracy')\n",
        "plt.xlabel('Iterations')\n",
        "plt.ylabel('Accuracy')\n",
        "plt.title('Training and Test Accuracy Over Iterations')\n",
        "plt.legend()\n",
        "\n",
        "plt.tight_layout()\n",
        "plt.show()\n",
        "\n",
        "# Print final train and test cost/accuracy\n",
        "print(f\"Final Train Cost: {train_cost[-1]:.4f}\")\n",
        "print(f\"Final Test Cost: {test_cost[-1]:.4f}\")\n",
        "print(f\"Final Train Accuracy: {train_accu[-1]:.4f}\")\n",
        "print(f\"Final Test Accuracy: {test_accu[-1]:.4f}\")"
      ]
    }
  ],
  "metadata": {
    "accelerator": "GPU",
    "colab": {
      "gpuType": "T4",
      "provenance": []
    },
    "kernelspec": {
      "display_name": "Python 3",
      "name": "python3"
    },
    "language_info": {
      "codemirror_mode": {
        "name": "ipython",
        "version": 3
      },
      "file_extension": ".py",
      "mimetype": "text/x-python",
      "name": "python",
      "nbconvert_exporter": "python",
      "pygments_lexer": "ipython3",
      "version": "3.13.2"
    }
  },
  "nbformat": 4,
  "nbformat_minor": 0
}
