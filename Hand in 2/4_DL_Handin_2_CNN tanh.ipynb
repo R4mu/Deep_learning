{
  "cells": [
    {
      "cell_type": "code",
      "execution_count": 8,
      "metadata": {
        "id": "59JyptEh5WIK"
      },
      "outputs": [],
      "source": [
        "import numpy as np\n",
        "import imageio\n",
        "import glob\n",
        "import matplotlib.pyplot as plt\n",
        "import torch\n",
        "import torch.nn as nn\n",
        "import torch.nn.functional as F\n",
        "import time\n",
        "from torch.utils.data import DataLoader\n",
        "from torchvision import datasets, transforms"
      ]
    },
    {
      "cell_type": "code",
      "execution_count": 9,
      "metadata": {
        "id": "h2Z3KAMAS65b"
      },
      "outputs": [],
      "source": [
        "# Function to load MNIST dataset\n",
        "def load_mnist():\n",
        "    NUM_LABELS = 10\n",
        "    test_images, test_labels = [], []\n",
        "    train_images, train_labels = [], []\n",
        "\n",
        "    base_path = \"C:/Users/ramki/OneDrive/Desktop/DL/MNIST/MNIST\"\n",
        "\n",
        "    for label in range(NUM_LABELS):\n",
        "        for image_path in glob.glob(f\"{base_path}/Test/{label}/*.png\"):\n",
        "            image = imageio.imread(image_path)\n",
        "            test_images.append(image)\n",
        "            letter = [0] * NUM_LABELS\n",
        "            letter[label] = 1\n",
        "            test_labels.append(letter)\n",
        "\n",
        "    for label in range(NUM_LABELS):\n",
        "        for image_path in glob.glob(f\"{base_path}/Train/{label}/*.png\"):\n",
        "            image = imageio.imread(image_path)\n",
        "            train_images.append(image)\n",
        "            letter = [0] * NUM_LABELS\n",
        "            letter[label] = 1\n",
        "            train_labels.append(letter)\n",
        "\n",
        "    X_train = np.array(train_images).reshape(-1, 784) / 255.0\n",
        "    Y_train = np.array(train_labels)\n",
        "    X_test = np.array(test_images).reshape(-1, 784) / 255.0\n",
        "    Y_test = np.array(test_labels)\n",
        "\n",
        "    return X_train, Y_train, X_test, Y_test"
      ]
    },
    {
      "cell_type": "code",
      "execution_count": 10,
      "metadata": {
        "colab": {
          "base_uri": "https://localhost:8080/"
        },
        "id": "G3bDZtDgYgmr",
        "outputId": "69afcd0f-4b82-4b57-9f8b-62e014fa1228"
      },
      "outputs": [
        {
          "name": "stderr",
          "output_type": "stream",
          "text": [
            "C:\\Users\\ramki\\AppData\\Local\\Temp\\ipykernel_6912\\189164474.py:11: DeprecationWarning: Starting with ImageIO v3 the behavior of this function will switch to that of iio.v3.imread. To keep the current behavior (and make this warning disappear) use `import imageio.v2 as imageio` or call `imageio.v2.imread` directly.\n",
            "  image = imageio.imread(image_path)\n",
            "C:\\Users\\ramki\\AppData\\Local\\Temp\\ipykernel_6912\\189164474.py:19: DeprecationWarning: Starting with ImageIO v3 the behavior of this function will switch to that of iio.v3.imread. To keep the current behavior (and make this warning disappear) use `import imageio.v2 as imageio` or call `imageio.v2.imread` directly.\n",
            "  image = imageio.imread(image_path)\n"
          ]
        }
      ],
      "source": [
        "X_train, Y_train, X_test, Y_test = load_mnist()"
      ]
    },
    {
      "cell_type": "code",
      "execution_count": 15,
      "metadata": {
        "colab": {
          "base_uri": "https://localhost:8080/"
        },
        "id": "Z-vu5PHiF2Ls",
        "outputId": "1f8b9092-ade3-434a-efb2-9165f3ece56b"
      },
      "outputs": [],
      "source": [
        "class NeuralNetwork(nn.Module):\n",
        "    def __init__(self):\n",
        "        super(NeuralNetwork, self).__init__()\n",
        "\n",
        "        self.conv1 = nn.Conv2d(in_channels=1, out_channels=8, kernel_size=3, stride=1, padding=1)\n",
        "        self.pool1 = nn.MaxPool2d(kernel_size=2, stride=2)\n",
        "\n",
        "        self.conv2 = nn.Conv2d(in_channels=8, out_channels=16, kernel_size=2, stride=1, padding=1)\n",
        "        self.pool2 = nn.MaxPool2d(kernel_size=2, stride=2)\n",
        "\n",
        "        self.conv3 = nn.Conv2d(in_channels=16, out_channels=32, kernel_size=3, stride=1, padding=1)\n",
        "\n",
        "        self.fc = nn.Linear(in_features=32 * 7 * 7, out_features=10)\n",
        "\n",
        "    def forward(self, x):\n",
        "        x = self.pool1(self.conv1(x))\n",
        "        x = torch.tanh(x) \n",
        "\n",
        "        x = self.pool2(self.conv2(x))\n",
        "        x = torch.tanh(x)  \n",
        "        \n",
        "        x = torch.tanh(self.conv3(x))\n",
        "        x = x.view(x.size(0), -1)\n",
        "        x = self.fc(x)\n",
        "\n",
        "        return x"
      ]
    },
    {
      "cell_type": "code",
      "execution_count": 12,
      "metadata": {},
      "outputs": [],
      "source": [
        "#mini batch\n",
        "def random_mini_batches(X, Y, batch_size):\n",
        "    m = X.shape[0]\n",
        "    mini_batches = []\n",
        "    permutation = np.random.permutation(m)\n",
        "    shuffled_X = X[permutation, :]\n",
        "    shuffled_Y = Y[permutation, :]\n",
        "\n",
        "    num_batches = m // batch_size\n",
        "    for k in range(num_batches):\n",
        "        X_mini = shuffled_X[k * batch_size:(k + 1) * batch_size, :]\n",
        "        Y_mini = shuffled_Y[k * batch_size:(k + 1) * batch_size, :]\n",
        "        mini_batches.append((X_mini, Y_mini))\n",
        "\n",
        "    if m % batch_size != 0:\n",
        "        X_mini = shuffled_X[num_batches * batch_size:, :]\n",
        "        Y_mini = shuffled_Y[num_batches * batch_size:, :]\n",
        "        mini_batches.append((X_mini, Y_mini))\n",
        "\n",
        "    return mini_batches"
      ]
    },
    {
      "cell_type": "code",
      "execution_count": 13,
      "metadata": {
        "id": "wl3sWJHmE8tN"
      },
      "outputs": [],
      "source": [
        "def train_model(model, X_train, Y_train, X_test, Y_test, iterations=1000, learning_rate=0.001, batch_size=64):\n",
        "    # Convert data to PyTorch tensors\n",
        "    X_train = torch.tensor(X_train, dtype=torch.float32)\n",
        "    Y_train = torch.tensor(Y_train, dtype=torch.float32)\n",
        "    X_test = torch.tensor(X_test, dtype=torch.float32)\n",
        "    Y_test = torch.tensor(Y_test, dtype=torch.float32)\n",
        "\n",
        "    # Define optimizer and loss function\n",
        "    optimizer = torch.optim.SGD(model.parameters(), lr=learning_rate)\n",
        "    criterion = nn.CrossEntropyLoss()\n",
        "\n",
        "    train_costs, test_costs = [], []\n",
        "    train_accuracies, test_accuracies = [], []\n",
        "\n",
        "    for i in range(iterations):\n",
        "        # Create mini-batches\n",
        "        mini_batches = random_mini_batches(X_train, Y_train, batch_size)\n",
        "\n",
        "        for X_mini, Y_mini in mini_batches:\n",
        "            # Reshape X_mini to [batch_size, 1, 28, 28] for convolutional layers\n",
        "            X_mini = X_mini.view(-1, 1, 28, 28)  # Reshape to [batch_size, channels, height, width]\n",
        "\n",
        "            # Forward pass\n",
        "            outputs = model(X_mini)\n",
        "            loss = criterion(outputs, torch.argmax(Y_mini, dim=1))\n",
        "\n",
        "            # Backward pass and optimization\n",
        "            optimizer.zero_grad()\n",
        "            loss.backward()\n",
        "            optimizer.step()\n",
        "\n",
        "        if i % 10 == 0:\n",
        "            # Calculate accuracy and cost\n",
        "            with torch.no_grad():\n",
        "                # Reshape X_train and X_test for evaluation\n",
        "                X_train_reshaped = X_train.view(-1, 1, 28, 28)\n",
        "                X_test_reshaped = X_test.view(-1, 1, 28, 28)\n",
        "\n",
        "                train_outputs = model(X_train_reshaped)\n",
        "                train_cost = criterion(train_outputs, torch.argmax(Y_train, dim=1)).item()\n",
        "                train_accuracy = (torch.argmax(train_outputs, dim=1) == torch.argmax(Y_train, dim=1)).float().mean().item()\n",
        "\n",
        "                test_outputs = model(X_test_reshaped)\n",
        "                test_cost = criterion(test_outputs, torch.argmax(Y_test, dim=1)).item()\n",
        "                test_accuracy = (torch.argmax(test_outputs, dim=1) == torch.argmax(Y_test, dim=1)).float().mean().item()\n",
        "\n",
        "            train_costs.append(train_cost)\n",
        "            test_costs.append(test_cost)\n",
        "            train_accuracies.append(train_accuracy)\n",
        "            test_accuracies.append(test_accuracy)\n",
        "            print(f\"Iteration {i}: Train Cost = {train_cost:.4f}, Test Cost = {test_cost:.4f}, Train Accuracy = {train_accuracy:.4f}, Test Accuracy = {test_accuracy:.4f}\")\n",
        "\n",
        "    return train_costs, test_costs, train_accuracies, test_accuracies"
      ]
    },
    {
      "cell_type": "code",
      "execution_count": 16,
      "metadata": {},
      "outputs": [
        {
          "name": "stdout",
          "output_type": "stream",
          "text": [
            "Iteration 0: Train Cost = 2.2562, Test Cost = 2.2555, Train Accuracy = 0.4625, Test Accuracy = 0.4751\n",
            "Iteration 10: Train Cost = 0.4728, Test Cost = 0.4519, Train Accuracy = 0.8629, Test Accuracy = 0.8752\n",
            "Iteration 20: Train Cost = 0.3587, Test Cost = 0.3388, Train Accuracy = 0.8947, Test Accuracy = 0.9018\n",
            "Iteration 30: Train Cost = 0.3050, Test Cost = 0.2876, Train Accuracy = 0.9108, Test Accuracy = 0.9168\n",
            "Iteration 40: Train Cost = 0.2661, Test Cost = 0.2499, Train Accuracy = 0.9216, Test Accuracy = 0.9268\n",
            "Iteration 50: Train Cost = 0.2336, Test Cost = 0.2185, Train Accuracy = 0.9316, Test Accuracy = 0.9370\n",
            "Iteration 60: Train Cost = 0.2056, Test Cost = 0.1913, Train Accuracy = 0.9394, Test Accuracy = 0.9445\n",
            "Iteration 70: Train Cost = 0.1819, Test Cost = 0.1685, Train Accuracy = 0.9468, Test Accuracy = 0.9511\n",
            "Iteration 80: Train Cost = 0.1624, Test Cost = 0.1494, Train Accuracy = 0.9523, Test Accuracy = 0.9562\n",
            "Iteration 90: Train Cost = 0.1468, Test Cost = 0.1339, Train Accuracy = 0.9570, Test Accuracy = 0.9613\n",
            "Iteration 100: Train Cost = 0.1343, Test Cost = 0.1216, Train Accuracy = 0.9607, Test Accuracy = 0.9648\n",
            "Iteration 110: Train Cost = 0.1241, Test Cost = 0.1115, Train Accuracy = 0.9637, Test Accuracy = 0.9668\n",
            "Iteration 120: Train Cost = 0.1158, Test Cost = 0.1036, Train Accuracy = 0.9662, Test Accuracy = 0.9695\n",
            "Iteration 130: Train Cost = 0.1088, Test Cost = 0.0968, Train Accuracy = 0.9685, Test Accuracy = 0.9720\n",
            "Iteration 140: Train Cost = 0.1030, Test Cost = 0.0911, Train Accuracy = 0.9703, Test Accuracy = 0.9736\n",
            "Iteration 150: Train Cost = 0.0980, Test Cost = 0.0864, Train Accuracy = 0.9715, Test Accuracy = 0.9747\n",
            "Iteration 160: Train Cost = 0.0936, Test Cost = 0.0823, Train Accuracy = 0.9727, Test Accuracy = 0.9754\n",
            "Iteration 170: Train Cost = 0.0898, Test Cost = 0.0789, Train Accuracy = 0.9740, Test Accuracy = 0.9768\n",
            "Iteration 180: Train Cost = 0.0863, Test Cost = 0.0758, Train Accuracy = 0.9750, Test Accuracy = 0.9774\n",
            "Iteration 190: Train Cost = 0.0832, Test Cost = 0.0730, Train Accuracy = 0.9760, Test Accuracy = 0.9778\n",
            "Iteration 200: Train Cost = 0.0805, Test Cost = 0.0706, Train Accuracy = 0.9769, Test Accuracy = 0.9784\n",
            "Iteration 210: Train Cost = 0.0778, Test Cost = 0.0684, Train Accuracy = 0.9777, Test Accuracy = 0.9792\n",
            "Iteration 220: Train Cost = 0.0755, Test Cost = 0.0664, Train Accuracy = 0.9785, Test Accuracy = 0.9794\n",
            "Iteration 230: Train Cost = 0.0734, Test Cost = 0.0648, Train Accuracy = 0.9791, Test Accuracy = 0.9802\n",
            "Iteration 240: Train Cost = 0.0713, Test Cost = 0.0631, Train Accuracy = 0.9798, Test Accuracy = 0.9811\n",
            "Iteration 250: Train Cost = 0.0694, Test Cost = 0.0614, Train Accuracy = 0.9801, Test Accuracy = 0.9815\n",
            "Iteration 260: Train Cost = 0.0677, Test Cost = 0.0602, Train Accuracy = 0.9807, Test Accuracy = 0.9816\n",
            "Iteration 270: Train Cost = 0.0660, Test Cost = 0.0588, Train Accuracy = 0.9809, Test Accuracy = 0.9818\n",
            "Iteration 280: Train Cost = 0.0644, Test Cost = 0.0576, Train Accuracy = 0.9815, Test Accuracy = 0.9818\n",
            "Iteration 290: Train Cost = 0.0630, Test Cost = 0.0565, Train Accuracy = 0.9820, Test Accuracy = 0.9823\n",
            "Iteration 300: Train Cost = 0.0616, Test Cost = 0.0557, Train Accuracy = 0.9825, Test Accuracy = 0.9823\n",
            "Iteration 310: Train Cost = 0.0603, Test Cost = 0.0545, Train Accuracy = 0.9826, Test Accuracy = 0.9826\n",
            "Iteration 320: Train Cost = 0.0591, Test Cost = 0.0534, Train Accuracy = 0.9831, Test Accuracy = 0.9833\n",
            "Iteration 330: Train Cost = 0.0578, Test Cost = 0.0527, Train Accuracy = 0.9834, Test Accuracy = 0.9830\n",
            "Iteration 340: Train Cost = 0.0568, Test Cost = 0.0520, Train Accuracy = 0.9838, Test Accuracy = 0.9831\n",
            "Iteration 350: Train Cost = 0.0556, Test Cost = 0.0511, Train Accuracy = 0.9841, Test Accuracy = 0.9836\n",
            "Iteration 360: Train Cost = 0.0546, Test Cost = 0.0504, Train Accuracy = 0.9845, Test Accuracy = 0.9839\n",
            "Iteration 370: Train Cost = 0.0536, Test Cost = 0.0496, Train Accuracy = 0.9847, Test Accuracy = 0.9840\n",
            "Iteration 380: Train Cost = 0.0527, Test Cost = 0.0491, Train Accuracy = 0.9849, Test Accuracy = 0.9836\n",
            "Iteration 390: Train Cost = 0.0517, Test Cost = 0.0484, Train Accuracy = 0.9851, Test Accuracy = 0.9840\n",
            "Iteration 400: Train Cost = 0.0509, Test Cost = 0.0478, Train Accuracy = 0.9854, Test Accuracy = 0.9845\n",
            "Iteration 410: Train Cost = 0.0500, Test Cost = 0.0472, Train Accuracy = 0.9855, Test Accuracy = 0.9843\n",
            "Iteration 420: Train Cost = 0.0493, Test Cost = 0.0466, Train Accuracy = 0.9857, Test Accuracy = 0.9848\n",
            "Iteration 430: Train Cost = 0.0485, Test Cost = 0.0461, Train Accuracy = 0.9859, Test Accuracy = 0.9847\n",
            "Iteration 440: Train Cost = 0.0477, Test Cost = 0.0458, Train Accuracy = 0.9863, Test Accuracy = 0.9848\n",
            "Iteration 450: Train Cost = 0.0470, Test Cost = 0.0453, Train Accuracy = 0.9866, Test Accuracy = 0.9849\n",
            "Iteration 460: Train Cost = 0.0463, Test Cost = 0.0447, Train Accuracy = 0.9868, Test Accuracy = 0.9850\n",
            "Iteration 470: Train Cost = 0.0456, Test Cost = 0.0444, Train Accuracy = 0.9871, Test Accuracy = 0.9850\n",
            "Iteration 480: Train Cost = 0.0449, Test Cost = 0.0438, Train Accuracy = 0.9874, Test Accuracy = 0.9850\n",
            "Iteration 490: Train Cost = 0.0443, Test Cost = 0.0434, Train Accuracy = 0.9876, Test Accuracy = 0.9849\n",
            "Time elapsed: 3016.6972 seconds\n"
          ]
        }
      ],
      "source": [
        "# Initialize the model\n",
        "\n",
        "\n",
        "\n",
        "start_time = time.time()\n",
        "\n",
        "model = NeuralNetwork()\n",
        "train_cost, test_cost, train_accu, test_accu = train_model(\n",
        "    model, X_train, Y_train, X_test, Y_test, iterations=500, learning_rate=0.001, batch_size=64\n",
        ")\n",
        "\n",
        "end_time = time.time()\n",
        "\n",
        "elapsed_time = end_time - start_time\n",
        "print(f\"Time elapsed: {elapsed_time:.4f} seconds\")\n",
        "\n",
        "\n"
      ]
    },
    {
      "cell_type": "markdown",
      "metadata": {},
      "source": []
    },
    {
      "cell_type": "code",
      "execution_count": null,
      "metadata": {},
      "outputs": [
        {
          "data": {
            "text/plain": [
              "<Figure size 1200x500 with 0 Axes>"
            ]
          },
          "metadata": {},
          "output_type": "display_data"
        },
        {
          "data": {
            "image/png": "[encoded data removed]",
            "text/plain": [
              "<Figure size 1200x400 with 2 Axes>"
            ]
          },
          "metadata": {},
          "output_type": "display_data"
        },
        {
          "name": "stdout",
          "output_type": "stream",
          "text": [
            "Final Train Cost: 0.0601\n",
            "Final Test Cost: 0.0625\n",
            "Final Train Accuracy: 0.9830\n",
            "Final Test Accuracy: 0.9794\n"
          ]
        }
      ],
      "source": [
        "# Plot the learning curves\n",
        "plt.figure(figsize=(12, 5))\n",
        "fig, axs = plt.subplots(1, 2, figsize=(12, 4))\n",
        "\n",
        "# Plot training and test cost\n",
        "plt.subplot(1, 2, 1)\n",
        "plt.plot(train_cost, label='Train Cost')\n",
        "plt.plot(test_cost, label='Test Cost')\n",
        "plt.xlabel('Iterations')\n",
        "plt.ylabel('Cost')\n",
        "plt.title('Training and Test Cost Over Iterations')\n",
        "plt.legend()\n",
        "\n",
        "# Plot training and test accuracy\n",
        "plt.subplot(1, 2, 2)\n",
        "plt.plot(train_accu, label='Train Accuracy')\n",
        "plt.plot(test_accu, label='Test Accuracy')\n",
        "plt.xlabel('Iterations')\n",
        "plt.ylabel('Accuracy')\n",
        "plt.title('Training and Test Accuracy Over Iterations')\n",
        "plt.legend()\n",
        "\n",
        "plt.tight_layout()\n",
        "plt.show()\n",
        "\n",
        "# Print final train and test cost/accuracy\n",
        "print(f\"Final Train Cost: {train_cost[-1]:.4f}\")\n",
        "print(f\"Final Test Cost: {test_cost[-1]:.4f}\")\n",
        "print(f\"Final Train Accuracy: {train_accu[-1]:.4f}\")\n",
        "print(f\"Final Test Accuracy: {test_accu[-1]:.4f}\")"
      ]
    },
    {
      "cell_type": "code",
      "execution_count": null,
      "metadata": {},
      "outputs": [],
      "source": []
    }
  ],
  "metadata": {
    "accelerator": "GPU",
    "colab": {
      "gpuType": "T4",
      "provenance": []
    },
    "kernelspec": {
      "display_name": "Python 3",
      "name": "python3"
    },
    "language_info": {
      "codemirror_mode": {
        "name": "ipython",
        "version": 3
      },
      "file_extension": ".py",
      "mimetype": "text/x-python",
      "name": "python",
      "nbconvert_exporter": "python",
      "pygments_lexer": "ipython3",
      "version": "3.13.2"
    }
  },
  "nbformat": 4,
  "nbformat_minor": 0
}
