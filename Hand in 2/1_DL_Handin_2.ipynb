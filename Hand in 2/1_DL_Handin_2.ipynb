{
  "cells": [
    {
      "cell_type": "code",
      "execution_count": 1,
      "metadata": {
        "id": "59JyptEh5WIK"
      },
      "outputs": [],
      "source": [
        "import numpy as np\n",
        "import imageio\n",
        "import glob\n",
        "import matplotlib.pyplot as plt\n",
        "import torch\n",
        "import torch.nn as nn\n",
        "import torch.nn.functional as F\n",
        "import time\n",
        "from torch.utils.data import DataLoader\n",
        "from torchvision import datasets, transforms"
      ]
    },
    {
      "cell_type": "code",
      "execution_count": 2,
      "metadata": {},
      "outputs": [],
      "source": [
        "# Function to load MNIST dataset\n",
        "def load_mnist():\n",
        "    NUM_LABELS = 10\n",
        "    test_images, test_labels = [], []\n",
        "    train_images, train_labels = [], []\n",
        "\n",
        "    base_path = \"C:/Users/ramki/OneDrive/Desktop/DL/MNIST/MNIST\"\n",
        "\n",
        "    for label in range(NUM_LABELS):\n",
        "        for image_path in glob.glob(f\"{base_path}/Test/{label}/*.png\"):\n",
        "            image = imageio.imread(image_path)\n",
        "            test_images.append(image)\n",
        "            letter = [0] * NUM_LABELS\n",
        "            letter[label] = 1\n",
        "            test_labels.append(letter)\n",
        "\n",
        "    for label in range(NUM_LABELS):\n",
        "        for image_path in glob.glob(f\"{base_path}/Train/{label}/*.png\"):\n",
        "            image = imageio.imread(image_path)\n",
        "            train_images.append(image)\n",
        "            letter = [0] * NUM_LABELS\n",
        "            letter[label] = 1\n",
        "            train_labels.append(letter)\n",
        "\n",
        "    X_train = np.array(train_images).reshape(-1, 784) / 255.0\n",
        "    Y_train = np.array(train_labels)\n",
        "    X_test = np.array(test_images).reshape(-1, 784) / 255.0\n",
        "    Y_test = np.array(test_labels)\n",
        "\n",
        "    return X_train, Y_train, X_test, Y_test"
      ]
    },
    {
      "cell_type": "code",
      "execution_count": 3,
      "metadata": {
        "colab": {
          "base_uri": "https://localhost:8080/"
        },
        "id": "G3bDZtDgYgmr",
        "outputId": "69afcd0f-4b82-4b57-9f8b-62e014fa1228"
      },
      "outputs": [
        {
          "name": "stderr",
          "output_type": "stream",
          "text": [
            "C:\\Users\\ramki\\AppData\\Local\\Temp\\ipykernel_512\\189164474.py:11: DeprecationWarning: Starting with ImageIO v3 the behavior of this function will switch to that of iio.v3.imread. To keep the current behavior (and make this warning disappear) use `import imageio.v2 as imageio` or call `imageio.v2.imread` directly.\n",
            "  image = imageio.imread(image_path)\n",
            "C:\\Users\\ramki\\AppData\\Local\\Temp\\ipykernel_512\\189164474.py:19: DeprecationWarning: Starting with ImageIO v3 the behavior of this function will switch to that of iio.v3.imread. To keep the current behavior (and make this warning disappear) use `import imageio.v2 as imageio` or call `imageio.v2.imread` directly.\n",
            "  image = imageio.imread(image_path)\n"
          ]
        }
      ],
      "source": [
        "X_train, Y_train, X_test, Y_test = load_mnist()"
      ]
    },
    {
      "cell_type": "code",
      "execution_count": 4,
      "metadata": {
        "colab": {
          "base_uri": "https://localhost:8080/"
        },
        "id": "Z-vu5PHiF2Ls",
        "outputId": "1f8b9092-ade3-434a-efb2-9165f3ece56b"
      },
      "outputs": [
        {
          "name": "stdout",
          "output_type": "stream",
          "text": [
            "NeuralNetwork(\n",
            "  (hidden): Linear(in_features=784, out_features=128, bias=True)\n",
            "  (output): Linear(in_features=128, out_features=10, bias=True)\n",
            ")\n"
          ]
        }
      ],
      "source": [
        "import torch\n",
        "import torch.nn as nn\n",
        "import torch.nn.functional as F\n",
        "\n",
        "torch.manual_seed(0)\n",
        "\n",
        "K = 1  # Number of hidden layers\n",
        "D = 128  # Number of neurons per hidden layer\n",
        "D_i = 784  # Input layer dimension\n",
        "D_o = 10  # Output layer dimension\n",
        "\n",
        "class NeuralNetwork(nn.Module):\n",
        "    def __init__(self):\n",
        "        super(NeuralNetwork, self).__init__()\n",
        "\n",
        "        self.hidden = nn.Linear(D_i, D)  # Input layer to first hidden layer\n",
        "        self.output = nn.Linear(D, D_o)  # Last hidden layer to output layer\n",
        "\n",
        "        # Initialize weights with He initialization\n",
        "        nn.init.kaiming_normal_(self.hidden.weight, nonlinearity='relu')\n",
        "        nn.init.zeros_(self.hidden.bias)\n",
        "        nn.init.kaiming_normal_(self.output.weight, nonlinearity='relu')\n",
        "        nn.init.zeros_(self.output.bias)\n",
        "\n",
        "    def forward(self, x):\n",
        "        x = F.relu(self.hidden(x))\n",
        "        x = self.output(x)\n",
        "        return x\n",
        "model = NeuralNetwork()\n",
        "print(model)\n"
      ]
    },
    {
      "cell_type": "code",
      "execution_count": 5,
      "metadata": {
        "id": "7RHzh_V3QJVo"
      },
      "outputs": [],
      "source": [
        "#mini batch\n",
        "def random_mini_batches(X, Y, batch_size):\n",
        "    m = X.shape[0]\n",
        "    mini_batches = []\n",
        "    permutation = np.random.permutation(m)\n",
        "    shuffled_X = X[permutation, :]\n",
        "    shuffled_Y = Y[permutation, :]\n",
        "\n",
        "    num_batches = m // batch_size\n",
        "    for k in range(num_batches):\n",
        "        X_mini = shuffled_X[k * batch_size:(k + 1) * batch_size, :]\n",
        "        Y_mini = shuffled_Y[k * batch_size:(k + 1) * batch_size, :]\n",
        "        mini_batches.append((X_mini, Y_mini))\n",
        "\n",
        "    if m % batch_size != 0:\n",
        "        X_mini = shuffled_X[num_batches * batch_size:, :]\n",
        "        Y_mini = shuffled_Y[num_batches * batch_size:, :]\n",
        "        mini_batches.append((X_mini, Y_mini))\n",
        "\n",
        "    return mini_batches"
      ]
    },
    {
      "cell_type": "code",
      "execution_count": 6,
      "metadata": {
        "id": "wl3sWJHmE8tN"
      },
      "outputs": [],
      "source": [
        "def train_model(model, X_train, Y_train, X_test, Y_test, iterations=1000, learning_rate=0.001, batch_size=64):\n",
        "    # Convert data to PyTorch tensors\n",
        "    X_train = torch.tensor(X_train, dtype=torch.float32)\n",
        "    Y_train = torch.tensor(Y_train, dtype=torch.float32)\n",
        "    X_test = torch.tensor(X_test, dtype=torch.float32)\n",
        "    Y_test = torch.tensor(Y_test, dtype=torch.float32)\n",
        "\n",
        "    # Define optimizer and loss function\n",
        "    optimizer = torch.optim.SGD(model.parameters(), lr=learning_rate)\n",
        "    criterion = nn.CrossEntropyLoss()\n",
        "\n",
        "    train_costs, test_costs = [], []\n",
        "    train_accuracies, test_accuracies = [], []\n",
        "\n",
        "    for i in range(iterations):\n",
        "        # Create mini-batches\n",
        "        mini_batches = random_mini_batches(X_train, Y_train, batch_size)\n",
        "\n",
        "        for X_mini, Y_mini in mini_batches:\n",
        "            # Forward pass\n",
        "            outputs = model(X_mini)\n",
        "            loss = criterion(outputs, torch.argmax(Y_mini, dim=1))\n",
        "\n",
        "            # Backward pass and optimization\n",
        "            optimizer.zero_grad()\n",
        "            loss.backward()\n",
        "            optimizer.step()\n",
        "\n",
        "        if i % 10 == 0:\n",
        "            # Calculate accuracy and cost\n",
        "            with torch.no_grad():\n",
        "                train_outputs = model(X_train)\n",
        "                train_cost = criterion(train_outputs, torch.argmax(Y_train, dim=1)).item()\n",
        "                train_accuracy = (torch.argmax(train_outputs, dim=1) == torch.argmax(Y_train, dim=1)).float().mean().item()\n",
        "\n",
        "                test_outputs = model(X_test)\n",
        "                test_cost = criterion(test_outputs, torch.argmax(Y_test, dim=1)).item()\n",
        "                test_accuracy = (torch.argmax(test_outputs, dim=1) == torch.argmax(Y_test, dim=1)).float().mean().item()\n",
        "\n",
        "            train_costs.append(train_cost)\n",
        "            test_costs.append(test_cost)\n",
        "            train_accuracies.append(train_accuracy)\n",
        "            test_accuracies.append(test_accuracy)\n",
        "            print(f\"Iteration {i}: Train Cost = {train_cost:.4f}, Test Cost = {test_cost:.4f}, Train Accuracy = {train_accuracy:.4f}, Test Accuracy = {test_accuracy:.4f}\")\n",
        "\n",
        "    return train_costs, test_costs, train_accuracies, test_accuracies"
      ]
    },
    {
      "cell_type": "code",
      "execution_count": 7,
      "metadata": {
        "colab": {
          "base_uri": "https://localhost:8080/",
          "height": 606
        },
        "id": "5Z88cQPSHJPI",
        "outputId": "0c399926-9c33-4a36-c498-72200b04553c"
      },
      "outputs": [
        {
          "name": "stdout",
          "output_type": "stream",
          "text": [
            "Iteration 0: Train Cost = 1.1057, Test Cost = 1.0830, Train Accuracy = 0.7624, Test Accuracy = 0.7715\n",
            "Iteration 10: Train Cost = 0.3609, Test Cost = 0.3457, Train Accuracy = 0.9004, Test Accuracy = 0.9081\n",
            "Iteration 20: Train Cost = 0.2977, Test Cost = 0.2875, Train Accuracy = 0.9175, Test Accuracy = 0.9204\n",
            "Iteration 30: Train Cost = 0.2637, Test Cost = 0.2567, Train Accuracy = 0.9268, Test Accuracy = 0.9290\n",
            "Iteration 40: Train Cost = 0.2394, Test Cost = 0.2352, Train Accuracy = 0.9334, Test Accuracy = 0.9333\n",
            "Iteration 50: Train Cost = 0.2196, Test Cost = 0.2173, Train Accuracy = 0.9387, Test Accuracy = 0.9384\n",
            "Iteration 60: Train Cost = 0.2031, Test Cost = 0.2028, Train Accuracy = 0.9429, Test Accuracy = 0.9429\n",
            "Iteration 70: Train Cost = 0.1890, Test Cost = 0.1903, Train Accuracy = 0.9470, Test Accuracy = 0.9456\n",
            "Iteration 80: Train Cost = 0.1767, Test Cost = 0.1793, Train Accuracy = 0.9505, Test Accuracy = 0.9476\n",
            "Iteration 90: Train Cost = 0.1658, Test Cost = 0.1694, Train Accuracy = 0.9532, Test Accuracy = 0.9511\n",
            "Iteration 100: Train Cost = 0.1563, Test Cost = 0.1613, Train Accuracy = 0.9561, Test Accuracy = 0.9538\n",
            "Iteration 110: Train Cost = 0.1478, Test Cost = 0.1538, Train Accuracy = 0.9585, Test Accuracy = 0.9553\n",
            "Iteration 120: Train Cost = 0.1401, Test Cost = 0.1471, Train Accuracy = 0.9610, Test Accuracy = 0.9561\n",
            "Iteration 130: Train Cost = 0.1333, Test Cost = 0.1414, Train Accuracy = 0.9629, Test Accuracy = 0.9577\n",
            "Iteration 140: Train Cost = 0.1269, Test Cost = 0.1360, Train Accuracy = 0.9649, Test Accuracy = 0.9593\n",
            "Iteration 150: Train Cost = 0.1212, Test Cost = 0.1311, Train Accuracy = 0.9663, Test Accuracy = 0.9613\n",
            "Iteration 160: Train Cost = 0.1159, Test Cost = 0.1269, Train Accuracy = 0.9680, Test Accuracy = 0.9626\n",
            "Iteration 170: Train Cost = 0.1111, Test Cost = 0.1229, Train Accuracy = 0.9693, Test Accuracy = 0.9644\n",
            "Iteration 180: Train Cost = 0.1067, Test Cost = 0.1193, Train Accuracy = 0.9707, Test Accuracy = 0.9654\n",
            "Iteration 190: Train Cost = 0.1025, Test Cost = 0.1160, Train Accuracy = 0.9719, Test Accuracy = 0.9663\n",
            "Iteration 200: Train Cost = 0.0986, Test Cost = 0.1130, Train Accuracy = 0.9730, Test Accuracy = 0.9672\n",
            "Iteration 210: Train Cost = 0.0950, Test Cost = 0.1103, Train Accuracy = 0.9741, Test Accuracy = 0.9679\n",
            "Iteration 220: Train Cost = 0.0917, Test Cost = 0.1076, Train Accuracy = 0.9751, Test Accuracy = 0.9685\n",
            "Iteration 230: Train Cost = 0.0886, Test Cost = 0.1053, Train Accuracy = 0.9760, Test Accuracy = 0.9688\n",
            "Iteration 240: Train Cost = 0.0856, Test Cost = 0.1032, Train Accuracy = 0.9770, Test Accuracy = 0.9694\n",
            "Iteration 250: Train Cost = 0.0829, Test Cost = 0.1013, Train Accuracy = 0.9778, Test Accuracy = 0.9699\n",
            "Iteration 260: Train Cost = 0.0804, Test Cost = 0.0994, Train Accuracy = 0.9786, Test Accuracy = 0.9699\n",
            "Iteration 270: Train Cost = 0.0779, Test Cost = 0.0976, Train Accuracy = 0.9793, Test Accuracy = 0.9707\n",
            "Iteration 280: Train Cost = 0.0756, Test Cost = 0.0959, Train Accuracy = 0.9799, Test Accuracy = 0.9712\n",
            "Iteration 290: Train Cost = 0.0735, Test Cost = 0.0946, Train Accuracy = 0.9804, Test Accuracy = 0.9716\n",
            "Iteration 300: Train Cost = 0.0714, Test Cost = 0.0929, Train Accuracy = 0.9809, Test Accuracy = 0.9721\n",
            "Iteration 310: Train Cost = 0.0695, Test Cost = 0.0918, Train Accuracy = 0.9816, Test Accuracy = 0.9729\n",
            "Iteration 320: Train Cost = 0.0676, Test Cost = 0.0906, Train Accuracy = 0.9821, Test Accuracy = 0.9730\n",
            "Iteration 330: Train Cost = 0.0659, Test Cost = 0.0894, Train Accuracy = 0.9827, Test Accuracy = 0.9733\n",
            "Iteration 340: Train Cost = 0.0642, Test Cost = 0.0880, Train Accuracy = 0.9831, Test Accuracy = 0.9739\n",
            "Iteration 350: Train Cost = 0.0626, Test Cost = 0.0870, Train Accuracy = 0.9837, Test Accuracy = 0.9738\n",
            "Iteration 360: Train Cost = 0.0610, Test Cost = 0.0861, Train Accuracy = 0.9842, Test Accuracy = 0.9742\n",
            "Iteration 370: Train Cost = 0.0595, Test Cost = 0.0850, Train Accuracy = 0.9845, Test Accuracy = 0.9743\n",
            "Iteration 380: Train Cost = 0.0581, Test Cost = 0.0844, Train Accuracy = 0.9850, Test Accuracy = 0.9746\n",
            "Iteration 390: Train Cost = 0.0568, Test Cost = 0.0834, Train Accuracy = 0.9854, Test Accuracy = 0.9747\n",
            "Iteration 400: Train Cost = 0.0555, Test Cost = 0.0827, Train Accuracy = 0.9857, Test Accuracy = 0.9750\n",
            "Iteration 410: Train Cost = 0.0543, Test Cost = 0.0819, Train Accuracy = 0.9862, Test Accuracy = 0.9755\n",
            "Iteration 420: Train Cost = 0.0531, Test Cost = 0.0813, Train Accuracy = 0.9865, Test Accuracy = 0.9756\n",
            "Iteration 430: Train Cost = 0.0519, Test Cost = 0.0806, Train Accuracy = 0.9867, Test Accuracy = 0.9757\n",
            "Iteration 440: Train Cost = 0.0508, Test Cost = 0.0799, Train Accuracy = 0.9871, Test Accuracy = 0.9759\n",
            "Iteration 450: Train Cost = 0.0497, Test Cost = 0.0793, Train Accuracy = 0.9873, Test Accuracy = 0.9761\n",
            "Iteration 460: Train Cost = 0.0487, Test Cost = 0.0788, Train Accuracy = 0.9876, Test Accuracy = 0.9760\n",
            "Iteration 470: Train Cost = 0.0477, Test Cost = 0.0782, Train Accuracy = 0.9880, Test Accuracy = 0.9764\n",
            "Iteration 480: Train Cost = 0.0467, Test Cost = 0.0780, Train Accuracy = 0.9881, Test Accuracy = 0.9766\n",
            "Iteration 490: Train Cost = 0.0457, Test Cost = 0.0774, Train Accuracy = 0.9883, Test Accuracy = 0.9772\n",
            "Iteration 500: Train Cost = 0.0448, Test Cost = 0.0769, Train Accuracy = 0.9887, Test Accuracy = 0.9771\n",
            "Iteration 510: Train Cost = 0.0439, Test Cost = 0.0767, Train Accuracy = 0.9889, Test Accuracy = 0.9773\n",
            "Iteration 520: Train Cost = 0.0431, Test Cost = 0.0762, Train Accuracy = 0.9892, Test Accuracy = 0.9775\n",
            "Iteration 530: Train Cost = 0.0423, Test Cost = 0.0756, Train Accuracy = 0.9897, Test Accuracy = 0.9775\n",
            "Iteration 540: Train Cost = 0.0415, Test Cost = 0.0755, Train Accuracy = 0.9898, Test Accuracy = 0.9774\n",
            "Iteration 550: Train Cost = 0.0407, Test Cost = 0.0749, Train Accuracy = 0.9901, Test Accuracy = 0.9778\n",
            "Iteration 560: Train Cost = 0.0399, Test Cost = 0.0748, Train Accuracy = 0.9904, Test Accuracy = 0.9779\n",
            "Iteration 570: Train Cost = 0.0391, Test Cost = 0.0744, Train Accuracy = 0.9907, Test Accuracy = 0.9778\n",
            "Iteration 580: Train Cost = 0.0384, Test Cost = 0.0741, Train Accuracy = 0.9908, Test Accuracy = 0.9780\n",
            "Iteration 590: Train Cost = 0.0377, Test Cost = 0.0738, Train Accuracy = 0.9910, Test Accuracy = 0.9778\n",
            "Iteration 600: Train Cost = 0.0370, Test Cost = 0.0734, Train Accuracy = 0.9911, Test Accuracy = 0.9782\n",
            "Iteration 610: Train Cost = 0.0364, Test Cost = 0.0734, Train Accuracy = 0.9913, Test Accuracy = 0.9780\n",
            "Iteration 620: Train Cost = 0.0357, Test Cost = 0.0732, Train Accuracy = 0.9916, Test Accuracy = 0.9782\n",
            "Iteration 630: Train Cost = 0.0351, Test Cost = 0.0727, Train Accuracy = 0.9917, Test Accuracy = 0.9782\n",
            "Iteration 640: Train Cost = 0.0345, Test Cost = 0.0726, Train Accuracy = 0.9920, Test Accuracy = 0.9780\n",
            "Iteration 650: Train Cost = 0.0339, Test Cost = 0.0724, Train Accuracy = 0.9922, Test Accuracy = 0.9781\n",
            "Iteration 660: Train Cost = 0.0333, Test Cost = 0.0722, Train Accuracy = 0.9925, Test Accuracy = 0.9780\n",
            "Iteration 670: Train Cost = 0.0327, Test Cost = 0.0720, Train Accuracy = 0.9926, Test Accuracy = 0.9781\n",
            "Iteration 680: Train Cost = 0.0321, Test Cost = 0.0719, Train Accuracy = 0.9927, Test Accuracy = 0.9782\n",
            "Iteration 690: Train Cost = 0.0316, Test Cost = 0.0716, Train Accuracy = 0.9930, Test Accuracy = 0.9783\n",
            "Iteration 700: Train Cost = 0.0311, Test Cost = 0.0716, Train Accuracy = 0.9931, Test Accuracy = 0.9782\n",
            "Iteration 710: Train Cost = 0.0305, Test Cost = 0.0713, Train Accuracy = 0.9933, Test Accuracy = 0.9782\n",
            "Iteration 720: Train Cost = 0.0300, Test Cost = 0.0710, Train Accuracy = 0.9935, Test Accuracy = 0.9783\n",
            "Iteration 730: Train Cost = 0.0295, Test Cost = 0.0709, Train Accuracy = 0.9936, Test Accuracy = 0.9784\n",
            "Iteration 740: Train Cost = 0.0291, Test Cost = 0.0709, Train Accuracy = 0.9937, Test Accuracy = 0.9785\n",
            "Iteration 750: Train Cost = 0.0286, Test Cost = 0.0707, Train Accuracy = 0.9938, Test Accuracy = 0.9785\n",
            "Iteration 760: Train Cost = 0.0281, Test Cost = 0.0705, Train Accuracy = 0.9941, Test Accuracy = 0.9790\n",
            "Iteration 770: Train Cost = 0.0276, Test Cost = 0.0705, Train Accuracy = 0.9941, Test Accuracy = 0.9790\n",
            "Iteration 780: Train Cost = 0.0272, Test Cost = 0.0704, Train Accuracy = 0.9944, Test Accuracy = 0.9788\n",
            "Iteration 790: Train Cost = 0.0268, Test Cost = 0.0702, Train Accuracy = 0.9945, Test Accuracy = 0.9791\n",
            "Iteration 800: Train Cost = 0.0264, Test Cost = 0.0702, Train Accuracy = 0.9947, Test Accuracy = 0.9790\n",
            "Iteration 810: Train Cost = 0.0259, Test Cost = 0.0699, Train Accuracy = 0.9948, Test Accuracy = 0.9790\n",
            "Iteration 820: Train Cost = 0.0255, Test Cost = 0.0700, Train Accuracy = 0.9951, Test Accuracy = 0.9789\n",
            "Iteration 830: Train Cost = 0.0251, Test Cost = 0.0698, Train Accuracy = 0.9952, Test Accuracy = 0.9791\n",
            "Iteration 840: Train Cost = 0.0247, Test Cost = 0.0696, Train Accuracy = 0.9952, Test Accuracy = 0.9794\n",
            "Iteration 850: Train Cost = 0.0244, Test Cost = 0.0696, Train Accuracy = 0.9954, Test Accuracy = 0.9793\n",
            "Iteration 860: Train Cost = 0.0240, Test Cost = 0.0696, Train Accuracy = 0.9956, Test Accuracy = 0.9793\n",
            "Iteration 870: Train Cost = 0.0236, Test Cost = 0.0694, Train Accuracy = 0.9958, Test Accuracy = 0.9793\n",
            "Iteration 880: Train Cost = 0.0232, Test Cost = 0.0695, Train Accuracy = 0.9959, Test Accuracy = 0.9793\n",
            "Iteration 890: Train Cost = 0.0229, Test Cost = 0.0695, Train Accuracy = 0.9961, Test Accuracy = 0.9790\n",
            "Iteration 900: Train Cost = 0.0226, Test Cost = 0.0693, Train Accuracy = 0.9961, Test Accuracy = 0.9792\n",
            "Iteration 910: Train Cost = 0.0222, Test Cost = 0.0694, Train Accuracy = 0.9963, Test Accuracy = 0.9791\n",
            "Iteration 920: Train Cost = 0.0219, Test Cost = 0.0692, Train Accuracy = 0.9964, Test Accuracy = 0.9792\n",
            "Iteration 930: Train Cost = 0.0216, Test Cost = 0.0692, Train Accuracy = 0.9964, Test Accuracy = 0.9788\n",
            "Iteration 940: Train Cost = 0.0212, Test Cost = 0.0692, Train Accuracy = 0.9965, Test Accuracy = 0.9791\n",
            "Iteration 950: Train Cost = 0.0210, Test Cost = 0.0691, Train Accuracy = 0.9966, Test Accuracy = 0.9790\n",
            "Iteration 960: Train Cost = 0.0206, Test Cost = 0.0690, Train Accuracy = 0.9967, Test Accuracy = 0.9791\n",
            "Iteration 970: Train Cost = 0.0203, Test Cost = 0.0691, Train Accuracy = 0.9967, Test Accuracy = 0.9789\n",
            "Iteration 980: Train Cost = 0.0200, Test Cost = 0.0690, Train Accuracy = 0.9969, Test Accuracy = 0.9790\n",
            "Iteration 990: Train Cost = 0.0198, Test Cost = 0.0689, Train Accuracy = 0.9969, Test Accuracy = 0.9791\n",
            "Time elapsed: 909.6799 seconds\n"
          ]
        }
      ],
      "source": [
        "# Initialize the model\n",
        "\n",
        "\n",
        "\n",
        "start_time = time.time()\n",
        "\n",
        "train_cost, test_cost, train_accu, test_accu = train_model(model, X_train, Y_train, X_test, Y_test, iterations=1000, learning_rate=0.002, batch_size=64) # Call train_model with the model instance and data\n",
        "\n",
        "end_time = time.time()\n",
        "\n",
        "elapsed_time = end_time - start_time\n",
        "print(f\"Time elapsed: {elapsed_time:.4f} seconds\")\n"
      ]
    },
    {
      "cell_type": "code",
      "execution_count": 8,
      "metadata": {
        "id": "Ln6VFLmc1vaG"
      },
      "outputs": [
        {
          "data": {
            "text/plain": [
              "<Figure size 1200x500 with 0 Axes>"
            ]
          },
          "metadata": {},
          "output_type": "display_data"
        },
        {
          "data": {
            "image/png": "[encoded data removed]",
            "text/plain": [
              "<Figure size 1200x400 with 2 Axes>"
            ]
          },
          "metadata": {},
          "output_type": "display_data"
        },
        {
          "name": "stdout",
          "output_type": "stream",
          "text": [
            "Final Train Cost: 0.0198\n",
            "Final Test Cost: 0.0689\n",
            "Final Train Accuracy: 0.9969\n",
            "Final Test Accuracy: 0.9791\n"
          ]
        }
      ],
      "source": [
        "# Plot the learning curves\n",
        "plt.figure(figsize=(12, 5))\n",
        "fig, axs = plt.subplots(1, 2, figsize=(12, 4))\n",
        "\n",
        "# Plot training and test cost\n",
        "plt.subplot(1, 2, 1)\n",
        "plt.plot(train_cost, label='Train Cost')\n",
        "plt.plot(test_cost, label='Test Cost')\n",
        "plt.xlabel('Iterations')\n",
        "plt.ylabel('Cost')\n",
        "plt.title('Training and Test Cost Over Iterations')\n",
        "plt.legend()\n",
        "\n",
        "# Plot training and test accuracy\n",
        "plt.subplot(1, 2, 2)\n",
        "plt.plot(train_accu, label='Train Accuracy')\n",
        "plt.plot(test_accu, label='Test Accuracy')\n",
        "plt.xlabel('Iterations')\n",
        "plt.ylabel('Accuracy')\n",
        "plt.title('Training and Test Accuracy Over Iterations')\n",
        "plt.legend()\n",
        "\n",
        "plt.tight_layout()\n",
        "plt.show()\n",
        "\n",
        "# Print final train and test cost/accuracy\n",
        "print(f\"Final Train Cost: {train_cost[-1]:.4f}\")\n",
        "print(f\"Final Test Cost: {test_cost[-1]:.4f}\")\n",
        "print(f\"Final Train Accuracy: {train_accu[-1]:.4f}\")\n",
        "print(f\"Final Test Accuracy: {test_accu[-1]:.4f}\")"
      ]
    },
    {
      "cell_type": "code",
      "execution_count": null,
      "metadata": {},
      "outputs": [],
      "source": []
    }
  ],
  "metadata": {
    "accelerator": "GPU",
    "colab": {
      "gpuType": "T4",
      "provenance": []
    },
    "kernelspec": {
      "display_name": "Python 3",
      "name": "python3"
    },
    "language_info": {
      "codemirror_mode": {
        "name": "ipython",
        "version": 3
      },
      "file_extension": ".py",
      "mimetype": "text/x-python",
      "name": "python",
      "nbconvert_exporter": "python",
      "pygments_lexer": "ipython3",
      "version": "3.13.2"
    }
  },
  "nbformat": 4,
  "nbformat_minor": 0
}
